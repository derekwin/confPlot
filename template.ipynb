{
 "cells": [
  {
   "cell_type": "code",
   "execution_count": null,
   "metadata": {},
   "outputs": [],
   "source": [
    "from core.plot import groupBarByGroup\n",
    "from core.style import ColorLight\n",
    "\n",
    "main_groups = {\n",
    "      'Main Group A': ['Sub X1', 'Sub X2'],\n",
    "      'Main Group B': ['Sub Y1', 'Sub Y2', 'Sub Y3'],\n",
    "      'Main Group C': ['Sub Z1'],\n",
    "      'Main Group D': ['Sub Y1', 'Sub Y2', 'Sub Y3'],\n",
    "      'Main Group E': ['Sub Z1']\n",
    "  }\n",
    "\n",
    "values = {\n",
    "    'Category X': [20, 34, 30, 25, 32, 35, 30, 25, 32, 35],\n",
    "    'Category Y': [25, 32, 35, 20, 34, 30, 35, 20, 34, 30],\n",
    "    'Category Z': [30, 28, 32, 25, 30, 33, 32, 25, 30, 33],\n",
    "    'Category K': [39, 26, 23, 26, 21, 31, 23, 26, 21, 31],\n",
    "    'Category J': [24, 25, 13, 22, 16, 37, 13, 22, 16, 37],\n",
    "}\n",
    "\n",
    "groupBarByGroup(main_groups=main_groups, input_values=values, color=ColorLight)"
   ]
  }
 ],
 "metadata": {
  "kernelspec": {
   "display_name": "plot",
   "language": "python",
   "name": "python3"
  },
  "language_info": {
   "codemirror_mode": {
    "name": "ipython",
    "version": 3
   },
   "file_extension": ".py",
   "mimetype": "text/x-python",
   "name": "python",
   "nbconvert_exporter": "python",
   "pygments_lexer": "ipython3",
   "version": "3.13.0"
  }
 },
 "nbformat": 4,
 "nbformat_minor": 2
}
